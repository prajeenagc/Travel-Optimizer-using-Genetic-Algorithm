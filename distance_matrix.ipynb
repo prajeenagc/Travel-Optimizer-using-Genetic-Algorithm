{
 "cells": [
  {
   "cell_type": "code",
   "execution_count": 1,
   "id": "12016041-ba8b-4c51-a6f7-3b67d94654de",
   "metadata": {},
   "outputs": [
    {
     "name": "stdout",
     "output_type": "stream",
     "text": [
      "Requirement already satisfied: pandas in c:\\users\\gcpra\\anaconda3\\envs\\condaenv\\lib\\site-packages (2.2.3)\n",
      "Requirement already satisfied: numpy>=1.22.4 in c:\\users\\gcpra\\anaconda3\\envs\\condaenv\\lib\\site-packages (from pandas) (2.0.2)\n",
      "Requirement already satisfied: python-dateutil>=2.8.2 in c:\\users\\gcpra\\anaconda3\\envs\\condaenv\\lib\\site-packages (from pandas) (2.9.0.post0)\n",
      "Requirement already satisfied: pytz>=2020.1 in c:\\users\\gcpra\\anaconda3\\envs\\condaenv\\lib\\site-packages (from pandas) (2024.1)\n",
      "Requirement already satisfied: tzdata>=2022.7 in c:\\users\\gcpra\\anaconda3\\envs\\condaenv\\lib\\site-packages (from pandas) (2024.2)\n",
      "Requirement already satisfied: six>=1.5 in c:\\users\\gcpra\\anaconda3\\envs\\condaenv\\lib\\site-packages (from python-dateutil>=2.8.2->pandas) (1.16.0)\n",
      "Note: you may need to restart the kernel to use updated packages.\n"
     ]
    }
   ],
   "source": [
    "pip install pandas\n"
   ]
  },
  {
   "cell_type": "code",
   "execution_count": 2,
   "id": "b1289780-910b-4dd5-b51b-cb032f80cda5",
   "metadata": {},
   "outputs": [
    {
     "name": "stdout",
     "output_type": "stream",
     "text": [
      "Requirement already satisfied: gomaps in c:\\users\\gcpra\\anaconda3\\envs\\condaenv\\lib\\site-packages (0.3.6)\n",
      "Requirement already satisfied: requests-html in c:\\users\\gcpra\\anaconda3\\envs\\condaenv\\lib\\site-packages (from gomaps) (0.10.0)\n",
      "Requirement already satisfied: pyppdf in c:\\users\\gcpra\\anaconda3\\envs\\condaenv\\lib\\site-packages (from gomaps) (0.1.2)\n",
      "Requirement already satisfied: GeoLiberator in c:\\users\\gcpra\\anaconda3\\envs\\condaenv\\lib\\site-packages (from gomaps) (0.3.7)\n",
      "Requirement already satisfied: certifi in c:\\users\\gcpra\\anaconda3\\envs\\condaenv\\lib\\site-packages (from pyppdf->gomaps) (2024.8.30)\n",
      "Requirement already satisfied: click in c:\\users\\gcpra\\anaconda3\\envs\\condaenv\\lib\\site-packages (from pyppdf->gomaps) (8.1.7)\n",
      "Requirement already satisfied: psutil in c:\\users\\gcpra\\anaconda3\\envs\\condaenv\\lib\\site-packages (from pyppdf->gomaps) (5.9.0)\n",
      "Requirement already satisfied: litereval>=0.0.9 in c:\\users\\gcpra\\anaconda3\\envs\\condaenv\\lib\\site-packages (from pyppdf->gomaps) (0.0.11)\n",
      "Requirement already satisfied: pyppeteer>=0.2.2 in c:\\users\\gcpra\\anaconda3\\envs\\condaenv\\lib\\site-packages (from pyppdf->gomaps) (2.0.0)\n",
      "Requirement already satisfied: requests in c:\\users\\gcpra\\anaconda3\\envs\\condaenv\\lib\\site-packages (from requests-html->gomaps) (2.32.3)\n",
      "Requirement already satisfied: pyquery in c:\\users\\gcpra\\anaconda3\\envs\\condaenv\\lib\\site-packages (from requests-html->gomaps) (2.0.1)\n",
      "Requirement already satisfied: fake-useragent in c:\\users\\gcpra\\anaconda3\\envs\\condaenv\\lib\\site-packages (from requests-html->gomaps) (2.0.2)\n",
      "Requirement already satisfied: parse in c:\\users\\gcpra\\anaconda3\\envs\\condaenv\\lib\\site-packages (from requests-html->gomaps) (1.20.2)\n",
      "Requirement already satisfied: bs4 in c:\\users\\gcpra\\anaconda3\\envs\\condaenv\\lib\\site-packages (from requests-html->gomaps) (0.0.2)\n",
      "Requirement already satisfied: w3lib in c:\\users\\gcpra\\anaconda3\\envs\\condaenv\\lib\\site-packages (from requests-html->gomaps) (2.2.1)\n",
      "Requirement already satisfied: appdirs<2.0.0,>=1.4.3 in c:\\users\\gcpra\\anaconda3\\envs\\condaenv\\lib\\site-packages (from pyppeteer>=0.2.2->pyppdf->gomaps) (1.4.4)\n",
      "Requirement already satisfied: importlib-metadata>=1.4 in c:\\users\\gcpra\\anaconda3\\envs\\condaenv\\lib\\site-packages (from pyppeteer>=0.2.2->pyppdf->gomaps) (7.0.1)\n",
      "Requirement already satisfied: pyee<12.0.0,>=11.0.0 in c:\\users\\gcpra\\anaconda3\\envs\\condaenv\\lib\\site-packages (from pyppeteer>=0.2.2->pyppdf->gomaps) (11.1.1)\n",
      "Requirement already satisfied: tqdm<5.0.0,>=4.42.1 in c:\\users\\gcpra\\anaconda3\\envs\\condaenv\\lib\\site-packages (from pyppeteer>=0.2.2->pyppdf->gomaps) (4.67.1)\n",
      "Requirement already satisfied: urllib3<2.0.0,>=1.25.8 in c:\\users\\gcpra\\anaconda3\\envs\\condaenv\\lib\\site-packages (from pyppeteer>=0.2.2->pyppdf->gomaps) (1.26.20)\n",
      "Requirement already satisfied: websockets<11.0,>=10.0 in c:\\users\\gcpra\\anaconda3\\envs\\condaenv\\lib\\site-packages (from pyppeteer>=0.2.2->pyppdf->gomaps) (10.4)\n",
      "Requirement already satisfied: beautifulsoup4 in c:\\users\\gcpra\\anaconda3\\envs\\condaenv\\lib\\site-packages (from bs4->requests-html->gomaps) (4.12.3)\n",
      "Requirement already satisfied: colorama in c:\\users\\gcpra\\anaconda3\\envs\\condaenv\\lib\\site-packages (from click->pyppdf->gomaps) (0.4.6)\n",
      "Requirement already satisfied: importlib-resources>=6.0 in c:\\users\\gcpra\\anaconda3\\envs\\condaenv\\lib\\site-packages (from fake-useragent->requests-html->gomaps) (6.4.5)\n",
      "Requirement already satisfied: lxml>=2.1 in c:\\users\\gcpra\\anaconda3\\envs\\condaenv\\lib\\site-packages (from pyquery->requests-html->gomaps) (5.3.0)\n",
      "Requirement already satisfied: cssselect>=1.2.0 in c:\\users\\gcpra\\anaconda3\\envs\\condaenv\\lib\\site-packages (from pyquery->requests-html->gomaps) (1.2.0)\n",
      "Requirement already satisfied: charset-normalizer<4,>=2 in c:\\users\\gcpra\\anaconda3\\envs\\condaenv\\lib\\site-packages (from requests->requests-html->gomaps) (3.3.2)\n",
      "Requirement already satisfied: idna<4,>=2.5 in c:\\users\\gcpra\\anaconda3\\envs\\condaenv\\lib\\site-packages (from requests->requests-html->gomaps) (3.10)\n",
      "Requirement already satisfied: zipp>=0.5 in c:\\users\\gcpra\\anaconda3\\envs\\condaenv\\lib\\site-packages (from importlib-metadata>=1.4->pyppeteer>=0.2.2->pyppdf->gomaps) (3.20.2)\n",
      "Requirement already satisfied: typing-extensions in c:\\users\\gcpra\\anaconda3\\envs\\condaenv\\lib\\site-packages (from pyee<12.0.0,>=11.0.0->pyppeteer>=0.2.2->pyppdf->gomaps) (4.11.0)\n",
      "Requirement already satisfied: soupsieve>1.2 in c:\\users\\gcpra\\anaconda3\\envs\\condaenv\\lib\\site-packages (from beautifulsoup4->bs4->requests-html->gomaps) (2.5)\n",
      "Note: you may need to restart the kernel to use updated packages.\n"
     ]
    }
   ],
   "source": [
    "pip install gomaps"
   ]
  },
  {
   "cell_type": "code",
   "execution_count": null,
   "id": "29f90d80-489c-47a6-9d06-31c778359ab0",
   "metadata": {},
   "outputs": [],
   "source": [
    "\n"
   ]
  },
  {
   "cell_type": "code",
   "execution_count": 6,
   "id": "1d309509-0187-4e19-a19c-6aa81094b987",
   "metadata": {},
   "outputs": [
    {
     "name": "stdout",
     "output_type": "stream",
     "text": [
      "Collecting geopy\n",
      "  Downloading geopy-2.4.1-py3-none-any.whl.metadata (6.8 kB)\n",
      "Collecting geographiclib<3,>=1.52 (from geopy)\n",
      "  Downloading geographiclib-2.0-py3-none-any.whl.metadata (1.4 kB)\n",
      "Downloading geopy-2.4.1-py3-none-any.whl (125 kB)\n",
      "Downloading geographiclib-2.0-py3-none-any.whl (40 kB)\n",
      "Installing collected packages: geographiclib, geopy\n",
      "Successfully installed geographiclib-2.0 geopy-2.4.1\n"
     ]
    }
   ],
   "source": [
    "!pip install geopy\n",
    "\n"
   ]
  },
  {
   "cell_type": "code",
   "execution_count": 1,
   "id": "4f2e548e-b406-45cc-a22d-83aecc4cc522",
   "metadata": {},
   "outputs": [
    {
     "name": "stdout",
     "output_type": "stream",
     "text": [
      "Distance matrix has been saved to 'distance_matrix.csv'\n"
     ]
    }
   ],
   "source": [
    "import pandas as pd\n",
    "import numpy as np\n",
    "from geopy.distance import geodesic  # Using Haversine formula\n",
    "\n",
    "# Load the CSV file\n",
    "df = pd.read_csv('finaldata_1.csv')\n",
    "\n",
    "# Extract latitude and longitude into a list of tuples\n",
    "coordinates = list(zip(df['latitude'], df['longitude']))\n",
    "\n",
    "# Initialize an empty distance matrix\n",
    "num_locations = len(coordinates)\n",
    "distance_matrix = np.zeros((num_locations, num_locations))\n",
    "\n",
    "# Calculate the distance between each pair of locations\n",
    "for i in range(num_locations):\n",
    "    for j in range(i, num_locations):  # Symmetric matrix, so we calculate only half\n",
    "        if i != j:\n",
    "            # Use Haversine formula (geodesic) to calculate the distance\n",
    "            dist = geodesic(coordinates[i], coordinates[j]).kilometers\n",
    "            distance_matrix[i][j] = dist\n",
    "            distance_matrix[j][i] = dist  # Symmetric distance\n",
    "        else:\n",
    "            distance_matrix[i][j] = 0  # Distance to itself is zero\n",
    "\n",
    "# Convert the matrix into a DataFrame for better readability\n",
    "distance_matrix_df = pd.DataFrame(distance_matrix, columns=df['locations'], index=df['locations'])\n",
    "\n",
    "# Save the distance matrix to a CSV file\n",
    "distance_matrix_df.to_csv('distance_matrix.csv')\n",
    "\n",
    "print(\"Distance matrix has been saved to 'distance_matrix.csv'\")\n",
    "\n"
   ]
  },
  {
   "cell_type": "code",
   "execution_count": 8,
   "id": "44ec43bf-96f5-4d8d-9178-4041a9d340b7",
   "metadata": {},
   "outputs": [
    {
     "name": "stdout",
     "output_type": "stream",
     "text": [
      "Distance matrix has been saved to 'distance_matrix.npy'\n"
     ]
    }
   ],
   "source": [
    "import pandas as pd\n",
    "import numpy as np\n",
    "from geopy.distance import geodesic  # Using Haversine formula\n",
    "\n",
    "# Load the CSV file\n",
    "df = pd.read_csv('finaldata.csv')\n",
    "\n",
    "# Extract latitude and longitude into a list of tuples\n",
    "coordinates = list(zip(df['latitude'], df['longitude']))\n",
    "\n",
    "# Initialize an empty distance matrix\n",
    "num_locations = len(coordinates)\n",
    "distance_matrix = np.zeros((num_locations, num_locations))\n",
    "\n",
    "# Calculate the distance between each pair of locations\n",
    "for i in range(num_locations):\n",
    "    for j in range(i, num_locations):  # Symmetric matrix, so we calculate only half\n",
    "        if i != j:\n",
    "            # Use Haversine formula (geodesic) to calculate the distance\n",
    "            dist = geodesic(coordinates[i], coordinates[j]).kilometers\n",
    "            distance_matrix[i][j] = dist\n",
    "            distance_matrix[j][i] = dist  # Symmetric distance\n",
    "        else:\n",
    "            distance_matrix[i][j] = 0  # Distance to itself is zero\n",
    "\n",
    "# Convert the matrix into a DataFrame for better readability\n",
    "distance_matrix_df = pd.DataFrame(distance_matrix, columns=df['locations'], index=df['locations'])\n",
    "\n",
    "# Save the distance matrix to a .npy file\n",
    "np.save('distance_matrix.npy', distance_matrix)\n",
    "\n",
    "print(\"Distance matrix has been saved to 'distance_matrix.npy'\")\n"
   ]
  },
  {
   "cell_type": "code",
   "execution_count": 3,
   "id": "89fb4d9d-f684-4c2f-a8e1-e2c811584074",
   "metadata": {},
   "outputs": [
    {
     "name": "stdout",
     "output_type": "stream",
     "text": [
      "Conversion complete! The .npy file has been saved.\n"
     ]
    }
   ],
   "source": [
    "import numpy as np\n",
    "import pandas as pd\n",
    "\n",
    "# Read the CSV file into a DataFrame\n",
    "df = pd.read_csv('formatted_distance_matrix.csv')\n",
    "\n",
    "# Convert the DataFrame to a NumPy array\n",
    "# Assuming the CSV has a square matrix structure without headers and index columns\n",
    "distance_matrix = df.to_numpy()\n",
    "\n",
    "# Save the NumPy array to a .npy file\n",
    "np.save('distance_matrixs.npy', distance_matrix)\n",
    "\n",
    "print(\"Conversion complete! The .npy file has been saved.\")\n"
   ]
  },
  {
   "cell_type": "code",
   "execution_count": 4,
   "id": "f177f9c0-5d50-4122-a5cc-5a493b796f1b",
   "metadata": {},
   "outputs": [
    {
     "name": "stdout",
     "output_type": "stream",
     "text": [
      "Matrix saved as .npy successfully.\n"
     ]
    }
   ],
   "source": [
    "import numpy as np\n",
    "import pandas as pd\n",
    "\n",
    "# Read the CSV file\n",
    "df = pd.read_csv('formatted_distance_matrix.csv')\n",
    "\n",
    "# Assuming the first row/column contains headers and you want to remove them\n",
    "# Convert only the numeric part of the matrix to a NumPy array\n",
    "# If the first column and/or first row are labels, exclude them:\n",
    "distance_matrix = df.iloc[1:, 1:].to_numpy()  # Exclude header row and column\n",
    "\n",
    "# Save the numeric matrix to a .npy file\n",
    "np.save('distance_matrixs.npy', distance_matrix)\n",
    "\n",
    "print(\"Matrix saved as .npy successfully.\")\n"
   ]
  },
  {
   "cell_type": "code",
   "execution_count": 5,
   "id": "7e13cb2b-7e5a-476d-a170-66ca5413f485",
   "metadata": {},
   "outputs": [
    {
     "name": "stdout",
     "output_type": "stream",
     "text": [
      "Matrix loaded successfully.\n"
     ]
    }
   ],
   "source": [
    "import numpy as np\n",
    "\n",
    "# Load the numeric distance matrix\n",
    "distance_matrix = np.load('distance_matrix.npy')\n",
    "\n",
    "print(\"Matrix loaded successfully.\")\n"
   ]
  },
  {
   "cell_type": "code",
   "execution_count": 6,
   "id": "15224605-1702-478f-b9be-69adf6349c90",
   "metadata": {},
   "outputs": [
    {
     "name": "stdout",
     "output_type": "stream",
     "text": [
      "Warning: There are non-numeric values in the matrix!\n",
      "Matrix saved as .npy successfully.\n"
     ]
    }
   ],
   "source": [
    "import numpy as np\n",
    "import pandas as pd\n",
    "\n",
    "# Read the CSV file\n",
    "df = pd.read_csv('formatted_distance_matrix.csv')\n",
    "\n",
    "# Remove the first row/column if it contains labels (such as city names)\n",
    "# Convert only the numeric part of the matrix to a NumPy array\n",
    "distance_matrix = df.iloc[1:, 1:].apply(pd.to_numeric, errors='coerce').to_numpy()\n",
    "\n",
    "# Check for any non-numeric entries\n",
    "if np.any(np.isnan(distance_matrix)):\n",
    "    print(\"Warning: There are non-numeric values in the matrix!\")\n",
    "\n",
    "# Save the numeric matrix to a .npy file\n",
    "np.save('distance_matrix.npy', distance_matrix)\n",
    "\n",
    "print(\"Matrix saved as .npy successfully.\")\n"
   ]
  },
  {
   "cell_type": "code",
   "execution_count": 7,
   "id": "616955b2-54ff-425c-8fa8-84cb5747e619",
   "metadata": {},
   "outputs": [
    {
     "name": "stdout",
     "output_type": "stream",
     "text": [
      "Matrix saved as .npy with NaN values filled.\n"
     ]
    }
   ],
   "source": [
    "import numpy as np\n",
    "import pandas as pd\n",
    "\n",
    "# Read the CSV file\n",
    "df = pd.read_csv('formatted_distance_matrix.csv')\n",
    "\n",
    "# Remove the first row/column if it contains labels\n",
    "# Convert only the numeric part of the matrix to a NumPy array\n",
    "distance_matrix = df.iloc[1:, 1:].apply(pd.to_numeric, errors='coerce').to_numpy()\n",
    "\n",
    "# Fill NaN values with 0 (or another value of your choice)\n",
    "distance_matrix = np.nan_to_num(distance_matrix, nan=0.0)\n",
    "\n",
    "# Save the numeric matrix to a .npy file\n",
    "np.save('distance_matrix.npy', distance_matrix)\n",
    "\n",
    "print(\"Matrix saved as .npy with NaN values filled.\")\n"
   ]
  },
  {
   "cell_type": "code",
   "execution_count": null,
   "id": "c9c079b8-c838-46b7-a47f-0fe7cd1724e3",
   "metadata": {},
   "outputs": [],
   "source": []
  }
 ],
 "metadata": {
  "kernelspec": {
   "display_name": "Python 3 (ipykernel)",
   "language": "python",
   "name": "python3"
  },
  "language_info": {
   "codemirror_mode": {
    "name": "ipython",
    "version": 3
   },
   "file_extension": ".py",
   "mimetype": "text/x-python",
   "name": "python",
   "nbconvert_exporter": "python",
   "pygments_lexer": "ipython3",
   "version": "3.9.20"
  }
 },
 "nbformat": 4,
 "nbformat_minor": 5
}
